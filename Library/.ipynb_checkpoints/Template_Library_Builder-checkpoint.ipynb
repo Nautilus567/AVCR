{
 "cells": [
  {
   "cell_type": "markdown",
   "metadata": {},
   "source": [
    "# Protein template library builder for AVCR and partners"
   ]
  },
  {
   "cell_type": "code",
   "execution_count": 1,
   "metadata": {},
   "outputs": [],
   "source": [
    "#Enviroment init\n",
    "from Bio.Blast import NCBIWWW, NCBIXML\n",
    "from Bio import SeqIO, AlignIO\n",
    "from Bio.Align.Applications import MafftCommandline as mafft\n",
    "from bokeh.models import ColumnDataSource, CDSView, BooleanFilter\n",
    "from bokeh.models import Title, LinearAxis, Range1d\n",
    "from bokeh.layouts import gridplot\n",
    "from bokeh.plotting import figure, show, output_file\n",
    "from bokeh.io import output_notebook\n",
    "import prody as pd\n",
    "import numpy as np\n",
    "import time, sys, os, glob"
   ]
  },
  {
   "cell_type": "code",
   "execution_count": 2,
   "metadata": {},
   "outputs": [],
   "source": [
    "#Progress bar function\n",
    "def progressbar(it, prefix=\"\", size=60, file=sys.stdout):\n",
    "    count = len(it)\n",
    "    def show(j):\n",
    "        x = int(size*j/count)\n",
    "        file.write(\"%s[%s%s] %i/%i\\r\" % (prefix, \"#\"*x, \".\"*(size-x), j, count))\n",
    "        file.flush()        \n",
    "    show(0)\n",
    "    for i, item in enumerate(it):\n",
    "        yield item\n",
    "        show(i+1)\n",
    "    file.write(\"\\n\")\n",
    "    file.flush()"
   ]
  },
  {
   "cell_type": "code",
   "execution_count": 3,
   "metadata": {},
   "outputs": [
    {
     "data": {
      "text/html": [
       "\n",
       "    <div class=\"bk-root\">\n",
       "        <a href=\"https://bokeh.pydata.org\" target=\"_blank\" class=\"bk-logo bk-logo-small bk-logo-notebook\"></a>\n",
       "        <span id=\"1001\">Loading BokehJS ...</span>\n",
       "    </div>"
      ]
     },
     "metadata": {},
     "output_type": "display_data"
    },
    {
     "data": {
      "application/javascript": [
       "\n",
       "(function(root) {\n",
       "  function now() {\n",
       "    return new Date();\n",
       "  }\n",
       "\n",
       "  var force = true;\n",
       "\n",
       "  if (typeof root._bokeh_onload_callbacks === \"undefined\" || force === true) {\n",
       "    root._bokeh_onload_callbacks = [];\n",
       "    root._bokeh_is_loading = undefined;\n",
       "  }\n",
       "\n",
       "  var JS_MIME_TYPE = 'application/javascript';\n",
       "  var HTML_MIME_TYPE = 'text/html';\n",
       "  var EXEC_MIME_TYPE = 'application/vnd.bokehjs_exec.v0+json';\n",
       "  var CLASS_NAME = 'output_bokeh rendered_html';\n",
       "\n",
       "  /**\n",
       "   * Render data to the DOM node\n",
       "   */\n",
       "  function render(props, node) {\n",
       "    var script = document.createElement(\"script\");\n",
       "    node.appendChild(script);\n",
       "  }\n",
       "\n",
       "  /**\n",
       "   * Handle when an output is cleared or removed\n",
       "   */\n",
       "  function handleClearOutput(event, handle) {\n",
       "    var cell = handle.cell;\n",
       "\n",
       "    var id = cell.output_area._bokeh_element_id;\n",
       "    var server_id = cell.output_area._bokeh_server_id;\n",
       "    // Clean up Bokeh references\n",
       "    if (id != null && id in Bokeh.index) {\n",
       "      Bokeh.index[id].model.document.clear();\n",
       "      delete Bokeh.index[id];\n",
       "    }\n",
       "\n",
       "    if (server_id !== undefined) {\n",
       "      // Clean up Bokeh references\n",
       "      var cmd = \"from bokeh.io.state import curstate; print(curstate().uuid_to_server['\" + server_id + \"'].get_sessions()[0].document.roots[0]._id)\";\n",
       "      cell.notebook.kernel.execute(cmd, {\n",
       "        iopub: {\n",
       "          output: function(msg) {\n",
       "            var id = msg.content.text.trim();\n",
       "            if (id in Bokeh.index) {\n",
       "              Bokeh.index[id].model.document.clear();\n",
       "              delete Bokeh.index[id];\n",
       "            }\n",
       "          }\n",
       "        }\n",
       "      });\n",
       "      // Destroy server and session\n",
       "      var cmd = \"import bokeh.io.notebook as ion; ion.destroy_server('\" + server_id + \"')\";\n",
       "      cell.notebook.kernel.execute(cmd);\n",
       "    }\n",
       "  }\n",
       "\n",
       "  /**\n",
       "   * Handle when a new output is added\n",
       "   */\n",
       "  function handleAddOutput(event, handle) {\n",
       "    var output_area = handle.output_area;\n",
       "    var output = handle.output;\n",
       "\n",
       "    // limit handleAddOutput to display_data with EXEC_MIME_TYPE content only\n",
       "    if ((output.output_type != \"display_data\") || (!output.data.hasOwnProperty(EXEC_MIME_TYPE))) {\n",
       "      return\n",
       "    }\n",
       "\n",
       "    var toinsert = output_area.element.find(\".\" + CLASS_NAME.split(' ')[0]);\n",
       "\n",
       "    if (output.metadata[EXEC_MIME_TYPE][\"id\"] !== undefined) {\n",
       "      toinsert[toinsert.length - 1].firstChild.textContent = output.data[JS_MIME_TYPE];\n",
       "      // store reference to embed id on output_area\n",
       "      output_area._bokeh_element_id = output.metadata[EXEC_MIME_TYPE][\"id\"];\n",
       "    }\n",
       "    if (output.metadata[EXEC_MIME_TYPE][\"server_id\"] !== undefined) {\n",
       "      var bk_div = document.createElement(\"div\");\n",
       "      bk_div.innerHTML = output.data[HTML_MIME_TYPE];\n",
       "      var script_attrs = bk_div.children[0].attributes;\n",
       "      for (var i = 0; i < script_attrs.length; i++) {\n",
       "        toinsert[toinsert.length - 1].firstChild.setAttribute(script_attrs[i].name, script_attrs[i].value);\n",
       "      }\n",
       "      // store reference to server id on output_area\n",
       "      output_area._bokeh_server_id = output.metadata[EXEC_MIME_TYPE][\"server_id\"];\n",
       "    }\n",
       "  }\n",
       "\n",
       "  function register_renderer(events, OutputArea) {\n",
       "\n",
       "    function append_mime(data, metadata, element) {\n",
       "      // create a DOM node to render to\n",
       "      var toinsert = this.create_output_subarea(\n",
       "        metadata,\n",
       "        CLASS_NAME,\n",
       "        EXEC_MIME_TYPE\n",
       "      );\n",
       "      this.keyboard_manager.register_events(toinsert);\n",
       "      // Render to node\n",
       "      var props = {data: data, metadata: metadata[EXEC_MIME_TYPE]};\n",
       "      render(props, toinsert[toinsert.length - 1]);\n",
       "      element.append(toinsert);\n",
       "      return toinsert\n",
       "    }\n",
       "\n",
       "    /* Handle when an output is cleared or removed */\n",
       "    events.on('clear_output.CodeCell', handleClearOutput);\n",
       "    events.on('delete.Cell', handleClearOutput);\n",
       "\n",
       "    /* Handle when a new output is added */\n",
       "    events.on('output_added.OutputArea', handleAddOutput);\n",
       "\n",
       "    /**\n",
       "     * Register the mime type and append_mime function with output_area\n",
       "     */\n",
       "    OutputArea.prototype.register_mime_type(EXEC_MIME_TYPE, append_mime, {\n",
       "      /* Is output safe? */\n",
       "      safe: true,\n",
       "      /* Index of renderer in `output_area.display_order` */\n",
       "      index: 0\n",
       "    });\n",
       "  }\n",
       "\n",
       "  // register the mime type if in Jupyter Notebook environment and previously unregistered\n",
       "  if (root.Jupyter !== undefined) {\n",
       "    var events = require('base/js/events');\n",
       "    var OutputArea = require('notebook/js/outputarea').OutputArea;\n",
       "\n",
       "    if (OutputArea.prototype.mime_types().indexOf(EXEC_MIME_TYPE) == -1) {\n",
       "      register_renderer(events, OutputArea);\n",
       "    }\n",
       "  }\n",
       "\n",
       "  \n",
       "  if (typeof (root._bokeh_timeout) === \"undefined\" || force === true) {\n",
       "    root._bokeh_timeout = Date.now() + 5000;\n",
       "    root._bokeh_failed_load = false;\n",
       "  }\n",
       "\n",
       "  var NB_LOAD_WARNING = {'data': {'text/html':\n",
       "     \"<div style='background-color: #fdd'>\\n\"+\n",
       "     \"<p>\\n\"+\n",
       "     \"BokehJS does not appear to have successfully loaded. If loading BokehJS from CDN, this \\n\"+\n",
       "     \"may be due to a slow or bad network connection. Possible fixes:\\n\"+\n",
       "     \"</p>\\n\"+\n",
       "     \"<ul>\\n\"+\n",
       "     \"<li>re-rerun `output_notebook()` to attempt to load from CDN again, or</li>\\n\"+\n",
       "     \"<li>use INLINE resources instead, as so:</li>\\n\"+\n",
       "     \"</ul>\\n\"+\n",
       "     \"<code>\\n\"+\n",
       "     \"from bokeh.resources import INLINE\\n\"+\n",
       "     \"output_notebook(resources=INLINE)\\n\"+\n",
       "     \"</code>\\n\"+\n",
       "     \"</div>\"}};\n",
       "\n",
       "  function display_loaded() {\n",
       "    var el = document.getElementById(\"1001\");\n",
       "    if (el != null) {\n",
       "      el.textContent = \"BokehJS is loading...\";\n",
       "    }\n",
       "    if (root.Bokeh !== undefined) {\n",
       "      if (el != null) {\n",
       "        el.textContent = \"BokehJS \" + root.Bokeh.version + \" successfully loaded.\";\n",
       "      }\n",
       "    } else if (Date.now() < root._bokeh_timeout) {\n",
       "      setTimeout(display_loaded, 100)\n",
       "    }\n",
       "  }\n",
       "\n",
       "\n",
       "  function run_callbacks() {\n",
       "    try {\n",
       "      root._bokeh_onload_callbacks.forEach(function(callback) {\n",
       "        if (callback != null)\n",
       "          callback();\n",
       "      });\n",
       "    } finally {\n",
       "      delete root._bokeh_onload_callbacks\n",
       "    }\n",
       "    console.debug(\"Bokeh: all callbacks have finished\");\n",
       "  }\n",
       "\n",
       "  function load_libs(css_urls, js_urls, callback) {\n",
       "    if (css_urls == null) css_urls = [];\n",
       "    if (js_urls == null) js_urls = [];\n",
       "\n",
       "    root._bokeh_onload_callbacks.push(callback);\n",
       "    if (root._bokeh_is_loading > 0) {\n",
       "      console.debug(\"Bokeh: BokehJS is being loaded, scheduling callback at\", now());\n",
       "      return null;\n",
       "    }\n",
       "    if (js_urls == null || js_urls.length === 0) {\n",
       "      run_callbacks();\n",
       "      return null;\n",
       "    }\n",
       "    console.debug(\"Bokeh: BokehJS not loaded, scheduling load and callback at\", now());\n",
       "    root._bokeh_is_loading = css_urls.length + js_urls.length;\n",
       "\n",
       "    function on_load() {\n",
       "      root._bokeh_is_loading--;\n",
       "      if (root._bokeh_is_loading === 0) {\n",
       "        console.debug(\"Bokeh: all BokehJS libraries/stylesheets loaded\");\n",
       "        run_callbacks()\n",
       "      }\n",
       "    }\n",
       "\n",
       "    function on_error() {\n",
       "      console.error(\"failed to load \" + url);\n",
       "    }\n",
       "\n",
       "    for (var i = 0; i < css_urls.length; i++) {\n",
       "      var url = css_urls[i];\n",
       "      const element = document.createElement(\"link\");\n",
       "      element.onload = on_load;\n",
       "      element.onerror = on_error;\n",
       "      element.rel = \"stylesheet\";\n",
       "      element.type = \"text/css\";\n",
       "      element.href = url;\n",
       "      console.debug(\"Bokeh: injecting link tag for BokehJS stylesheet: \", url);\n",
       "      document.body.appendChild(element);\n",
       "    }\n",
       "\n",
       "    for (var i = 0; i < js_urls.length; i++) {\n",
       "      var url = js_urls[i];\n",
       "      var element = document.createElement('script');\n",
       "      element.onload = on_load;\n",
       "      element.onerror = on_error;\n",
       "      element.async = false;\n",
       "      element.src = url;\n",
       "      console.debug(\"Bokeh: injecting script tag for BokehJS library: \", url);\n",
       "      document.head.appendChild(element);\n",
       "    }\n",
       "  };var element = document.getElementById(\"1001\");\n",
       "  if (element == null) {\n",
       "    console.error(\"Bokeh: ERROR: autoload.js configured with elementid '1001' but no matching script tag was found. \")\n",
       "    return false;\n",
       "  }\n",
       "\n",
       "  function inject_raw_css(css) {\n",
       "    const element = document.createElement(\"style\");\n",
       "    element.appendChild(document.createTextNode(css));\n",
       "    document.body.appendChild(element);\n",
       "  }\n",
       "\n",
       "  var js_urls = [\"https://cdn.pydata.org/bokeh/release/bokeh-1.3.4.min.js\", \"https://cdn.pydata.org/bokeh/release/bokeh-widgets-1.3.4.min.js\", \"https://cdn.pydata.org/bokeh/release/bokeh-tables-1.3.4.min.js\", \"https://cdn.pydata.org/bokeh/release/bokeh-gl-1.3.4.min.js\"];\n",
       "  var css_urls = [];\n",
       "\n",
       "  var inline_js = [\n",
       "    function(Bokeh) {\n",
       "      Bokeh.set_log_level(\"info\");\n",
       "    },\n",
       "    \n",
       "    function(Bokeh) {\n",
       "      \n",
       "    },\n",
       "    function(Bokeh) {} // ensure no trailing comma for IE\n",
       "  ];\n",
       "\n",
       "  function run_inline_js() {\n",
       "    \n",
       "    if ((root.Bokeh !== undefined) || (force === true)) {\n",
       "      for (var i = 0; i < inline_js.length; i++) {\n",
       "        inline_js[i].call(root, root.Bokeh);\n",
       "      }if (force === true) {\n",
       "        display_loaded();\n",
       "      }} else if (Date.now() < root._bokeh_timeout) {\n",
       "      setTimeout(run_inline_js, 100);\n",
       "    } else if (!root._bokeh_failed_load) {\n",
       "      console.log(\"Bokeh: BokehJS failed to load within specified timeout.\");\n",
       "      root._bokeh_failed_load = true;\n",
       "    } else if (force !== true) {\n",
       "      var cell = $(document.getElementById(\"1001\")).parents('.cell').data().cell;\n",
       "      cell.output_area.append_execute_result(NB_LOAD_WARNING)\n",
       "    }\n",
       "\n",
       "  }\n",
       "\n",
       "  if (root._bokeh_is_loading === 0) {\n",
       "    console.debug(\"Bokeh: BokehJS loaded, going straight to plotting\");\n",
       "    run_inline_js();\n",
       "  } else {\n",
       "    load_libs(css_urls, js_urls, function() {\n",
       "      console.debug(\"Bokeh: BokehJS plotting callback run at\", now());\n",
       "      run_inline_js();\n",
       "    });\n",
       "  }\n",
       "}(window));"
      ],
      "application/vnd.bokehjs_load.v0+json": "\n(function(root) {\n  function now() {\n    return new Date();\n  }\n\n  var force = true;\n\n  if (typeof root._bokeh_onload_callbacks === \"undefined\" || force === true) {\n    root._bokeh_onload_callbacks = [];\n    root._bokeh_is_loading = undefined;\n  }\n\n  \n\n  \n  if (typeof (root._bokeh_timeout) === \"undefined\" || force === true) {\n    root._bokeh_timeout = Date.now() + 5000;\n    root._bokeh_failed_load = false;\n  }\n\n  var NB_LOAD_WARNING = {'data': {'text/html':\n     \"<div style='background-color: #fdd'>\\n\"+\n     \"<p>\\n\"+\n     \"BokehJS does not appear to have successfully loaded. If loading BokehJS from CDN, this \\n\"+\n     \"may be due to a slow or bad network connection. Possible fixes:\\n\"+\n     \"</p>\\n\"+\n     \"<ul>\\n\"+\n     \"<li>re-rerun `output_notebook()` to attempt to load from CDN again, or</li>\\n\"+\n     \"<li>use INLINE resources instead, as so:</li>\\n\"+\n     \"</ul>\\n\"+\n     \"<code>\\n\"+\n     \"from bokeh.resources import INLINE\\n\"+\n     \"output_notebook(resources=INLINE)\\n\"+\n     \"</code>\\n\"+\n     \"</div>\"}};\n\n  function display_loaded() {\n    var el = document.getElementById(\"1001\");\n    if (el != null) {\n      el.textContent = \"BokehJS is loading...\";\n    }\n    if (root.Bokeh !== undefined) {\n      if (el != null) {\n        el.textContent = \"BokehJS \" + root.Bokeh.version + \" successfully loaded.\";\n      }\n    } else if (Date.now() < root._bokeh_timeout) {\n      setTimeout(display_loaded, 100)\n    }\n  }\n\n\n  function run_callbacks() {\n    try {\n      root._bokeh_onload_callbacks.forEach(function(callback) {\n        if (callback != null)\n          callback();\n      });\n    } finally {\n      delete root._bokeh_onload_callbacks\n    }\n    console.debug(\"Bokeh: all callbacks have finished\");\n  }\n\n  function load_libs(css_urls, js_urls, callback) {\n    if (css_urls == null) css_urls = [];\n    if (js_urls == null) js_urls = [];\n\n    root._bokeh_onload_callbacks.push(callback);\n    if (root._bokeh_is_loading > 0) {\n      console.debug(\"Bokeh: BokehJS is being loaded, scheduling callback at\", now());\n      return null;\n    }\n    if (js_urls == null || js_urls.length === 0) {\n      run_callbacks();\n      return null;\n    }\n    console.debug(\"Bokeh: BokehJS not loaded, scheduling load and callback at\", now());\n    root._bokeh_is_loading = css_urls.length + js_urls.length;\n\n    function on_load() {\n      root._bokeh_is_loading--;\n      if (root._bokeh_is_loading === 0) {\n        console.debug(\"Bokeh: all BokehJS libraries/stylesheets loaded\");\n        run_callbacks()\n      }\n    }\n\n    function on_error() {\n      console.error(\"failed to load \" + url);\n    }\n\n    for (var i = 0; i < css_urls.length; i++) {\n      var url = css_urls[i];\n      const element = document.createElement(\"link\");\n      element.onload = on_load;\n      element.onerror = on_error;\n      element.rel = \"stylesheet\";\n      element.type = \"text/css\";\n      element.href = url;\n      console.debug(\"Bokeh: injecting link tag for BokehJS stylesheet: \", url);\n      document.body.appendChild(element);\n    }\n\n    for (var i = 0; i < js_urls.length; i++) {\n      var url = js_urls[i];\n      var element = document.createElement('script');\n      element.onload = on_load;\n      element.onerror = on_error;\n      element.async = false;\n      element.src = url;\n      console.debug(\"Bokeh: injecting script tag for BokehJS library: \", url);\n      document.head.appendChild(element);\n    }\n  };var element = document.getElementById(\"1001\");\n  if (element == null) {\n    console.error(\"Bokeh: ERROR: autoload.js configured with elementid '1001' but no matching script tag was found. \")\n    return false;\n  }\n\n  function inject_raw_css(css) {\n    const element = document.createElement(\"style\");\n    element.appendChild(document.createTextNode(css));\n    document.body.appendChild(element);\n  }\n\n  var js_urls = [\"https://cdn.pydata.org/bokeh/release/bokeh-1.3.4.min.js\", \"https://cdn.pydata.org/bokeh/release/bokeh-widgets-1.3.4.min.js\", \"https://cdn.pydata.org/bokeh/release/bokeh-tables-1.3.4.min.js\", \"https://cdn.pydata.org/bokeh/release/bokeh-gl-1.3.4.min.js\"];\n  var css_urls = [];\n\n  var inline_js = [\n    function(Bokeh) {\n      Bokeh.set_log_level(\"info\");\n    },\n    \n    function(Bokeh) {\n      \n    },\n    function(Bokeh) {} // ensure no trailing comma for IE\n  ];\n\n  function run_inline_js() {\n    \n    if ((root.Bokeh !== undefined) || (force === true)) {\n      for (var i = 0; i < inline_js.length; i++) {\n        inline_js[i].call(root, root.Bokeh);\n      }if (force === true) {\n        display_loaded();\n      }} else if (Date.now() < root._bokeh_timeout) {\n      setTimeout(run_inline_js, 100);\n    } else if (!root._bokeh_failed_load) {\n      console.log(\"Bokeh: BokehJS failed to load within specified timeout.\");\n      root._bokeh_failed_load = true;\n    } else if (force !== true) {\n      var cell = $(document.getElementById(\"1001\")).parents('.cell').data().cell;\n      cell.output_area.append_execute_result(NB_LOAD_WARNING)\n    }\n\n  }\n\n  if (root._bokeh_is_loading === 0) {\n    console.debug(\"Bokeh: BokehJS loaded, going straight to plotting\");\n    run_inline_js();\n  } else {\n    load_libs(css_urls, js_urls, function() {\n      console.debug(\"Bokeh: BokehJS plotting callback run at\", now());\n      run_inline_js();\n    });\n  }\n}(window));"
     },
     "metadata": {},
     "output_type": "display_data"
    }
   ],
   "source": [
    "#bokeh init\n",
    "output_notebook()"
   ]
  },
  {
   "cell_type": "code",
   "execution_count": 4,
   "metadata": {},
   "outputs": [],
   "source": [
    "target_handle ={\n",
    "    \"ALK1\":\"P37023\",\n",
    "    \"ALK2\":\"Q04771\",\n",
    "    \"ALK3\":\"P36894\",\n",
    "    \"ALK4\":\"P36896\",\n",
    "    \"ALK5\":\"P36897\",\n",
    "    \"ALK6\":\"Q05438\",\n",
    "    \"ALK7\":\"Q8NER5\",\n",
    "    \"BMPR2\":\"Q13873\",\n",
    "    \"ActR-IIA\":\"Q7SXW6\",\n",
    "    \"ActR-IIB\":\"Q56A35\",\n",
    "    \"TGFR2\":\"P37173\",\n",
    "    \"AMH-RII\":\"Q16671\",\n",
    "    \"EGFR\":\"P00533\"\n",
    "}"
   ]
  },
  {
   "cell_type": "code",
   "execution_count": 5,
   "metadata": {},
   "outputs": [
    {
     "name": "stdout",
     "output_type": "stream",
     "text": [
      "Running BLASTP: [########################################] 13/13\n"
     ]
    }
   ],
   "source": [
    "target_name = target_handle.keys()\n",
    "rewrite = False #Keep False if not needed\n",
    "tol = 1e2\n",
    "hitlist = 2000 #Default is 50\n",
    "database = \"pdb\"\n",
    "try:\n",
    "    os.mkdir(\"Blast_PDB_XML\")\n",
    "except:\n",
    "    pass\n",
    "\n",
    "for target in progressbar(target_name, \"Running BLASTP: \", 40):\n",
    "    filename =\"Targets/\"+target+\".fasta\"\n",
    "    result_filename = \"Blast_PDB_XML/\" + target + \"_blast.xml\"\n",
    "    if os.path.exists(result_filename):\n",
    "        if rewrite:\n",
    "            with open(filename) as file:\n",
    "                query =file.read()\n",
    "                handle = NCBIWWW.qblast(\"blastp\",database,query,\n",
    "                                        expect=tol, hitlist_size=hitlist)\n",
    "                print(\"Rewriting BLAST results of %s\" %(target))\n",
    "                open(result_filename,\"w+\").write(handle.read())\n",
    "                print(\"Done!\") \n",
    "    else:\n",
    "        with open(filename) as file:\n",
    "            query =file.read()\n",
    "            handle = NCBIWWW.qblast(\"blastp\",database,query,\n",
    "                                    expect=tol, hitlist_size=hitlist)\n",
    "            open(result_filename,\"w+\").write(handle.read())\n",
    "    time.sleep(0.5)"
   ]
  },
  {
   "cell_type": "code",
   "execution_count": 6,
   "metadata": {},
   "outputs": [],
   "source": [
    "mylist = [f for f in glob.glob(\"Blast_PDB_XML/*.xml\")]"
   ]
  },
  {
   "cell_type": "code",
   "execution_count": 8,
   "metadata": {},
   "outputs": [],
   "source": [
    "os.mkdir(\"Plots/PDB\")"
   ]
  },
  {
   "cell_type": "code",
   "execution_count": 9,
   "metadata": {},
   "outputs": [],
   "source": [
    "def BLASTGraphicEval(blastfile,cutoff=False,cutoff_val=50):\n",
    "    from Bio.Blast import NCBIXML\n",
    "    from bokeh.models import ColumnDataSource, CDSView, BooleanFilter\n",
    "    from bokeh.models import Title, LinearAxis, Range1d\n",
    "    from bokeh.plotting import figure, show\n",
    "    from bokeh.io import export_png\n",
    "    import numpy as np\n",
    "    \n",
    "    #Extracting Evalues\n",
    "    result_handle = open(blastfile)\n",
    "    record = NCBIXML.read(result_handle)\n",
    "\n",
    "    evalue=[]\n",
    "    for aln in record.alignments:\n",
    "        hsp = aln.hsps[0] #just first hsp to avoid multiple hit scanning\n",
    "        val = hsp.expect\n",
    "        evalue.append(hsp.expect)\n",
    "    \n",
    "    #Calulating log of Evalue\n",
    "    log_eval=[]\n",
    "    for i in evalue:\n",
    "        if i == 0:\n",
    "            log_eval.append(-420) #Arbitrary value, because log(0) is undefined\n",
    "        else:\n",
    "            log_eval.append(np.log(i))\n",
    "    #Calculating Difference of Evalues (1st derivate)\n",
    "    d_eval= list(np.diff(log_eval))\n",
    "    d_eval.insert(0,d_eval[0]) #Adding first value as 0 to square up with the index\n",
    "    index = list(range(len(evalue)))\n",
    "    #print(\"Current lenght is\",len(evalue))\n",
    "    #Saving data in bokeh plot data\n",
    "    data = {\n",
    "        \"index\": index,\n",
    "        \"evalue\": log_eval,\n",
    "        \"derivate\": d_eval\n",
    "    }\n",
    "    source = ColumnDataSource(data=data)\n",
    "    \n",
    "    #Generating plot\n",
    "    minY=min(data[\"derivate\"])\n",
    "    maxY=max(data[\"derivate\"])\n",
    "    name=blastfile.split(\"/\")[1].split(\"_\")[0]\n",
    "    if cutoff:\n",
    "        #Generating plot figure\n",
    "        p = figure(plot_height=600, plot_width=800,\n",
    "                   title=\"{0} Blast against PDB with cutoff at {1}\".format(name,cutoff_val), \n",
    "                   title_location=\"above\", x_range=Range1d(start=0, end=cutoff_val),\n",
    "                   toolbar_location=None)\n",
    "        #Adding titles and labels\n",
    "        p.title.align = \"center\"\n",
    "        p.xaxis.axis_label = \"Sequence Index\"\n",
    "        p.yaxis.axis_label = \"E-Value (log)\"\n",
    "        #Filtering\n",
    "        booleans = [True if index < cutoff_val else False for index in source.data['index']]\n",
    "        view = CDSView(source=source, filters=[BooleanFilter(booleans)])\n",
    "        #Plotting lines\n",
    "        p.extra_y_ranges = {\"linear\": Range1d(start=minY-10, end=maxY+10)}\n",
    "        p.line(x=\"index\", y=\"derivate\", source=source, line_width=1, line_color=\"red\", view=view, y_range_name=\"linear\", line_dash='dashed',legend=\"1st Derivate\" )\n",
    "        p.line(x=\"index\", y=\"evalue\", source=source, view=view, line_width=2, line_color=\"blue\",legend=\"E-Value\")\n",
    "        #Export to file\n",
    "        export_png(p, filename=\"Plots/PDB/plot_{}_cutoff.png\".format(name))\n",
    "    else:\n",
    "        #Generating plot figure\n",
    "        p = figure(plot_height=600, plot_width=800,\n",
    "                   title=\"%s Blast against PDB\"%(name), title_location=\"above\",\n",
    "                   toolbar_location=None)\n",
    "        #Adding titles and labels\n",
    "        p.title.align = \"center\"\n",
    "        p.xaxis.axis_label = \"Sequence Index\"\n",
    "        p.yaxis.axis_label = \"E-Value (log)\"\n",
    "        #Plotting lines\n",
    "        p.extra_y_ranges = {\"linear\": Range1d(start=minY-10, end=maxY+10)}\n",
    "        p.line(x=\"index\", y=\"derivate\", source=source, line_width=2, line_color=\"red\", y_range_name=\"linear\", line_dash='dashed',legend=\"1st Derivate\")\n",
    "        p.line(x=\"index\", y=\"evalue\", source=source, line_width=2, line_color=\"blue\",legend=\"E-Value\")\n",
    "        #Export to file\n",
    "        export_png(p, filename=\"Plots/PDB/plot_{}.png\".format(name))"
   ]
  },
  {
   "cell_type": "code",
   "execution_count": 10,
   "metadata": {},
   "outputs": [
    {
     "name": "stdout",
     "output_type": "stream",
     "text": [
      "Plotting Blast_PDB_XML/ALK7_blast.xml\n",
      "Plotting Blast_PDB_XML/ALK6_blast.xml\n",
      "Plotting Blast_PDB_XML/TGFR2_blast.xml\n",
      "Plotting Blast_PDB_XML/ALK5_blast.xml\n",
      "Plotting Blast_PDB_XML/ALK4_blast.xml\n",
      "Plotting Blast_PDB_XML/ActR-IIA_blast.xml\n",
      "Plotting Blast_PDB_XML/EGFR_blast.xml\n",
      "Plotting Blast_PDB_XML/ALK2_blast.xml\n",
      "Plotting Blast_PDB_XML/AMH-RII_blast.xml\n",
      "Plotting Blast_PDB_XML/ActR-IIB_blast.xml\n",
      "Plotting Blast_PDB_XML/BMPR2_blast.xml\n",
      "Plotting Blast_PDB_XML/ALK3_blast.xml\n",
      "Plotting Blast_PDB_XML/ALK1_blast.xml\n"
     ]
    }
   ],
   "source": [
    "for file in mylist:\n",
    "    print(\"Plotting \"+file)\n",
    "    BLASTGraphicEval(file)"
   ]
  },
  {
   "cell_type": "code",
   "execution_count": 11,
   "metadata": {},
   "outputs": [],
   "source": [
    "def dataExtraction(blastfile):\n",
    "    result_handle = open(blastfile)\n",
    "    record = NCBIXML.read(result_handle)\n",
    "\n",
    "    evalue=[]\n",
    "    for aln in record.alignments:\n",
    "        hsp = aln.hsps[0]\n",
    "        val = hsp.expect\n",
    "        evalue.append(hsp.expect)\n",
    "    #Calulating log of Evalue\n",
    "    log_eval=[]\n",
    "    for i in evalue:\n",
    "        if i == 0:\n",
    "            log_eval.append(-420)\n",
    "        else:\n",
    "            log_eval.append(np.log(i))\n",
    "    #Calculating Difference of Evalues (1st derivate)\n",
    "    d_eval= list(np.diff(log_eval))\n",
    "    d_eval.insert(0,d_eval[0])\n",
    "    index = list(range(len(evalue)))\n",
    "    return (log_eval,d_eval,index)"
   ]
  },
  {
   "cell_type": "code",
   "execution_count": 12,
   "metadata": {},
   "outputs": [
    {
     "name": "stdout",
     "output_type": "stream",
     "text": [
      "Extracting parameters: [########################################] 13/13\n"
     ]
    }
   ],
   "source": [
    "datalist = []\n",
    "for file in progressbar(mylist, \"Extracting parameters: \", 40):\n",
    "    temp = dataExtraction(file)\n",
    "    datalist.append(temp)"
   ]
  },
  {
   "cell_type": "code",
   "execution_count": 13,
   "metadata": {},
   "outputs": [
    {
     "name": "stdout",
     "output_type": "stream",
     "text": [
      "Extracting parameters: [########################################] 13/13\n"
     ]
    }
   ],
   "source": [
    "cutoff_list = []\n",
    "for data in progressbar(datalist, \"Extracting parameters: \", 40):\n",
    "    d_max = max(data[1])\n",
    "    index = data[1].index(d_max)\n",
    "    d_data = data[1][index+1:]\n",
    "    length=len(d_data)-1\n",
    "    for i in range(length):\n",
    "        if (d_data[i-1] < d_data[i] and d_data[i+1] < d_data[i]):\n",
    "            index_d = data[1].index(d_data[i])\n",
    "            if index_d - index < 100:\n",
    "                continue\n",
    "            else:\n",
    "                break\n",
    "    cutoff_list.append(index_d)"
   ]
  },
  {
   "cell_type": "code",
   "execution_count": 15,
   "metadata": {},
   "outputs": [
    {
     "name": "stdout",
     "output_type": "stream",
     "text": [
      "[117, 117, 101, 118, 117, 105, 206, 119, 101, 103, 101, 118, 121]\n"
     ]
    }
   ],
   "source": [
    "print(cutoff_list)"
   ]
  },
  {
   "cell_type": "code",
   "execution_count": 16,
   "metadata": {},
   "outputs": [
    {
     "name": "stdout",
     "output_type": "stream",
     "text": [
      "Plotting: [########################################] 13/13\n"
     ]
    }
   ],
   "source": [
    "for i in progressbar(range(len(cutoff_list)), \"Plotting: \", 40):\n",
    "    BLASTGraphicEval(mylist[i],cutoff=True,cutoff_val=cutoff_list[i])"
   ]
  },
  {
   "cell_type": "code",
   "execution_count": 17,
   "metadata": {},
   "outputs": [],
   "source": [
    "os.mkdir(\"Templates\")"
   ]
  },
  {
   "cell_type": "code",
   "execution_count": 22,
   "metadata": {},
   "outputs": [],
   "source": [
    "def Template_Getter(blastfile,cutoff=50):\n",
    "    i = 0\n",
    "    ids = []\n",
    "    name=blastfile.split(\"/\")[1].split(\"_\")[0]\n",
    "    try:\n",
    "        os.mkdir(\"Templates/{0}\".format(name))\n",
    "    except:\n",
    "        pass\n",
    "    result_handle = open(blastfile)\n",
    "    record = NCBIXML.read(result_handle)\n",
    "    for alignment in record.alignments:\n",
    "        for hsp in alignment.hsps:\n",
    "            temp_str = alignment.title\n",
    "            tag = temp_str.split(\"|\")[3]\n",
    "            ids.append(tag)\n",
    "            if i > cutoff:\n",
    "                break\n",
    "            i +=1\n",
    "    temp = []\n",
    "    for i in progressbar(ids, \"Downloading:\", 40):\n",
    "        pd.fetchPDB(i, compressed=False, folder=\"Templates/{0}\".format(name))"
   ]
  },
  {
   "cell_type": "code",
   "execution_count": null,
   "metadata": {},
   "outputs": [
    {
     "name": "stdout",
     "output_type": "stream",
     "text": [
      "Working with Blast_PDB_XML/ALK7_blast.xml\n",
      "Downloading:[........................................] 0/2000\r"
     ]
    },
    {
     "name": "stderr",
     "output_type": "stream",
     "text": [
      "@> Connecting wwPDB FTP server RCSB PDB (USA).\n",
      "@> 1b6c downloaded (Templates/ALK7/1b6c.pdb)\n",
      "@> PDB download via FTP completed (1 downloaded, 0 failed).\n"
     ]
    },
    {
     "name": "stdout",
     "output_type": "stream",
     "text": [
      "Downloading:[........................................] 1/2000\r"
     ]
    },
    {
     "name": "stderr",
     "output_type": "stream",
     "text": [
      "@> Connecting wwPDB FTP server RCSB PDB (USA).\n",
      "@> 1py5 downloaded (Templates/ALK7/1py5.pdb)\n",
      "@> PDB download via FTP completed (1 downloaded, 0 failed).\n"
     ]
    },
    {
     "name": "stdout",
     "output_type": "stream",
     "text": [
      "Downloading:[........................................] 2/2000\r"
     ]
    },
    {
     "name": "stderr",
     "output_type": "stream",
     "text": [
      "@> Connecting wwPDB FTP server RCSB PDB (USA).\n",
      "@> 3tzm downloaded (Templates/ALK7/3tzm.pdb)\n",
      "@> PDB download via FTP completed (1 downloaded, 0 failed).\n"
     ]
    },
    {
     "name": "stdout",
     "output_type": "stream",
     "text": [
      "Downloading:[........................................] 3/2000\r"
     ]
    },
    {
     "name": "stderr",
     "output_type": "stream",
     "text": [
      "@> Connecting wwPDB FTP server RCSB PDB (USA).\n",
      "@> 4x2g downloaded (Templates/ALK7/4x2g.pdb)\n",
      "@> PDB download via FTP completed (1 downloaded, 0 failed).\n"
     ]
    },
    {
     "name": "stdout",
     "output_type": "stream",
     "text": [
      "Downloading:[........................................] 4/2000\r"
     ]
    },
    {
     "name": "stderr",
     "output_type": "stream",
     "text": [
      "@> Connecting wwPDB FTP server RCSB PDB (USA).\n",
      "@> 2wot downloaded (Templates/ALK7/2wot.pdb)\n",
      "@> PDB download via FTP completed (1 downloaded, 0 failed).\n"
     ]
    },
    {
     "name": "stdout",
     "output_type": "stream",
     "text": [
      "Downloading:[........................................] 5/2000\r"
     ]
    },
    {
     "name": "stderr",
     "output_type": "stream",
     "text": [
      "@> Connecting wwPDB FTP server RCSB PDB (USA).\n"
     ]
    }
   ],
   "source": [
    "for i in range(len(cutoff_list)):\n",
    "    print(\"Working with\",mylist[i])\n",
    "    Template_Getter(mylist[i],cutoff=cutoff_list[i])"
   ]
  },
  {
   "cell_type": "code",
   "execution_count": null,
   "metadata": {},
   "outputs": [],
   "source": []
  }
 ],
 "metadata": {
  "kernelspec": {
   "display_name": "Python 3",
   "language": "python",
   "name": "python3"
  },
  "language_info": {
   "codemirror_mode": {
    "name": "ipython",
    "version": 3
   },
   "file_extension": ".py",
   "mimetype": "text/x-python",
   "name": "python",
   "nbconvert_exporter": "python",
   "pygments_lexer": "ipython3",
   "version": "3.7.3"
  }
 },
 "nbformat": 4,
 "nbformat_minor": 4
}
