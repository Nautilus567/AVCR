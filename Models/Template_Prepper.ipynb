{
 "cells": [
  {
   "cell_type": "markdown",
   "metadata": {},
   "source": [
    "# Template preparation for homology modelling"
   ]
  },
  {
   "cell_type": "code",
   "execution_count": 10,
   "metadata": {},
   "outputs": [],
   "source": [
    "import prody as pd\n",
    "import numpy as np\n",
    "from Bio import SeqIO, AlignIO\n",
    "from Bio.Blast import NCBIXML\n",
    "import time, sys, os, glob\n",
    "pd.confProDy(verbosity='none')"
   ]
  },
  {
   "cell_type": "code",
   "execution_count": 4,
   "metadata": {},
   "outputs": [],
   "source": [
    "#Progress bar function\n",
    "def progressbar(it, prefix=\"\", size=60, file=sys.stdout):\n",
    "    count = len(it)\n",
    "    def show(j):\n",
    "        x = int(size*j/count)\n",
    "        file.write(\"%s[%s%s] %i/%i\\r\" % (prefix, \"#\"*x, \".\"*(size-x), j, count))\n",
    "        file.flush()        \n",
    "    show(0)\n",
    "    for i, item in enumerate(it):\n",
    "        yield item\n",
    "        show(i+1)\n",
    "    file.write(\"\\n\")\n",
    "    file.flush()"
   ]
  },
  {
   "cell_type": "code",
   "execution_count": 5,
   "metadata": {},
   "outputs": [],
   "source": [
    "#Protein to model\n",
    "Target = \"EGFR\""
   ]
  },
  {
   "cell_type": "code",
   "execution_count": 18,
   "metadata": {},
   "outputs": [],
   "source": [
    "def Template_Getter(blastfile):\n",
    "    result_handle = open(blastfile)\n",
    "    record = NCBIXML.read(result_handle)\n",
    "\n",
    "    evalue=[]\n",
    "    for aln in record.alignments:\n",
    "        hsp = aln.hsps[0]\n",
    "        val = hsp.expect\n",
    "        evalue.append(hsp.expect)\n",
    "    #Calulating log of Evalue\n",
    "    log_eval=[]\n",
    "    for i in evalue:\n",
    "        if i == 0:\n",
    "            log_eval.append(-420)\n",
    "        else:\n",
    "            log_eval.append(np.log(i))\n",
    "    #Calculating Difference of Evalues (1st derivate)\n",
    "    d_eval= list(np.diff(log_eval))\n",
    "    d_eval.insert(0,d_eval[0])\n",
    "    index = list(range(len(evalue)))\n",
    "    \n",
    "    d_max = max(d_eval)\n",
    "    maximun= d_eval.index(d_max)\n",
    "    subdata = d_eval[:maximun]\n",
    "\n",
    "    for x in subdata:\n",
    "        if x > 0:\n",
    "            peak = x\n",
    "            break\n",
    "        else:\n",
    "            continue\n",
    "    cutoff= d_eval.index(peak)\n",
    "    i = 0\n",
    "    ids = []\n",
    "    name = Target\n",
    "    try:\n",
    "        os.mkdir(\"Templates/{0}\".format(name))\n",
    "    except:\n",
    "        pass\n",
    "    \n",
    "    for alignment in record.alignments:\n",
    "        hsp = alignment.hsps[0]\n",
    "        temp_str = alignment.title\n",
    "        tag = temp_str.split(\"|\")[3]\n",
    "        ids.append(tag)\n",
    "        if i > cutoff:\n",
    "            break\n",
    "        i +=1\n",
    "    temp = []\n",
    "    for i in progressbar(ids, \"Downloading:\", 40):\n",
    "        pd.fetchPDB(i, compressed=False, folder=\"Templates/{0}\".format(name))"
   ]
  },
  {
   "cell_type": "code",
   "execution_count": 19,
   "metadata": {},
   "outputs": [
    {
     "name": "stdout",
     "output_type": "stream",
     "text": [
      "Downloading:[########################################] 86/86\n"
     ]
    }
   ],
   "source": [
    "Template_Getter(\"../Library/Blast_PDB_XML/{0}_blast.xml\".format(Target))"
   ]
  },
  {
   "cell_type": "code",
   "execution_count": 64,
   "metadata": {},
   "outputs": [],
   "source": [
    "def Template_Cleaner(blastfile, template_dir):\n",
    "    result_handle = open(blastfile)\n",
    "    record = NCBIXML.read(result_handle)\n",
    "    data = {}\n",
    "    for aln in progressbar(record.alignments, \"Data Extraction:\", 40):\n",
    "        hsp = aln.hsps[0]\n",
    "        name = aln.title\n",
    "        tag = name.split(\"|\")[3]\n",
    "        chain = name.split(\"|\")[4].split(\" \")[0]\n",
    "        data[tag] = chain\n",
    "\n",
    "    template_list = [f for f in glob.glob(\"{0}/*.pdb\".format(template_dir))]\n",
    "    for template in progressbar(template_list, \"Cleaning:\", 40):\n",
    "        tag = template.split(\"/\")[2].split(\".\")[0].upper()\n",
    "        if tag in data.keys():\n",
    "            chain = data[tag]\n",
    "            time.sleep(2)\n",
    "            full = pd.parsePDB(template)\n",
    "            clean = full[chain]\n",
    "            pd.writePDB(template_dir+\"/Clean/\"+tag.lower()+chain+\".pdb\",clean)"
   ]
  },
  {
   "cell_type": "code",
   "execution_count": 65,
   "metadata": {},
   "outputs": [
    {
     "name": "stdout",
     "output_type": "stream",
     "text": [
      "Data Extraction:[########################################] 2000/2000\n",
      "Cleaning:[########################################] 86/86\n"
     ]
    }
   ],
   "source": [
    "Template_Cleaner(\"../Library/Blast_PDB_XML/{0}_blast.xml\".format(Target),\"Templates/{0}\".format(Target))"
   ]
  },
  {
   "cell_type": "code",
   "execution_count": 66,
   "metadata": {},
   "outputs": [],
   "source": [
    "clean_dir = \"Templates/EGFR/Clean/\""
   ]
  },
  {
   "cell_type": "code",
   "execution_count": 67,
   "metadata": {},
   "outputs": [],
   "source": [
    "code3b = {\"GLY\" : \"G\", \"ALA\" : \"A\", \"LEU\" : \"L\", \"ILE\" : \"I\",\n",
    "        \"ARG\" : \"R\", \"LYS\" : \"K\", \"MET\" : \"M\", \"CYS\" : \"C\",\n",
    "        \"TYR\" : \"Y\", \"THR\" : \"T\", \"PRO\" : \"P\", \"SER\" : \"S\",\n",
    "        \"TRP\" : \"W\", \"ASP\" : \"D\", \"GLU\" : \"E\", \"ASN\" : \"N\",\n",
    "        \"GLN\" : \"Q\", \"PHE\" : \"F\", \"HIS\" : \"H\", \"VAL\" : \"V\",\n",
    "        \"UNK\" : \"X\", \"HSE\":\"H\", \"HSD\":\"H\"}"
   ]
  },
  {
   "cell_type": "code",
   "execution_count": null,
   "metadata": {},
   "outputs": [],
   "source": []
  }
 ],
 "metadata": {
  "kernelspec": {
   "display_name": "Python 3",
   "language": "python",
   "name": "python3"
  },
  "language_info": {
   "codemirror_mode": {
    "name": "ipython",
    "version": 3
   },
   "file_extension": ".py",
   "mimetype": "text/x-python",
   "name": "python",
   "nbconvert_exporter": "python",
   "pygments_lexer": "ipython3",
   "version": "3.7.3"
  }
 },
 "nbformat": 4,
 "nbformat_minor": 4
}
