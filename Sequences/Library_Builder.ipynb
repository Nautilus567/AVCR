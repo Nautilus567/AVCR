{
 "cells": [
  {
   "cell_type": "markdown",
   "metadata": {},
   "source": [
    "# Protein sequence library builder for AVCR and partners"
   ]
  },
  {
   "cell_type": "markdown",
   "metadata": {},
   "source": [
    "## List of target proteins"
   ]
  },
  {
   "cell_type": "markdown",
   "metadata": {},
   "source": [
    "* ALK1\n",
    "* ALK2\n",
    "* ALK3\n",
    "* ALK4\n",
    "* ALK5\n",
    "* ALK6\n",
    "* ALK7\n",
    "* BMPR2\n",
    "* ActR-IIA\n",
    "* ActR-IIB\n",
    "* TGFR2\n",
    "* AMH-RII\n",
    "* EGFR (control) "
   ]
  },
  {
   "cell_type": "code",
   "execution_count": 1,
   "metadata": {},
   "outputs": [],
   "source": [
    "#Enviroment init\n",
    "from Bio.Blast import NCBIWWW, NCBIXML\n",
    "from Bio import SeqIO, AlignIO, ExPASy\n",
    "from Bio.Align.Applications import MafftCommandline as mafft\n",
    "from bokeh.models import ColumnDataSource\n",
    "from bokeh.plotting import figure, show\n",
    "from bokeh.io import output_notebook\n",
    "import time, os"
   ]
  },
  {
   "cell_type": "code",
   "execution_count": 2,
   "metadata": {},
   "outputs": [],
   "source": [
    "target_handle ={\n",
    "    \"ALK1\":\"P37023\",\n",
    "    \"ALK2\":\"Q04771\",\n",
    "    \"ALK3\":\"P36894\",\n",
    "    \"ALK4\":\"P36896\",\n",
    "    \"ALK5\":\"P36897\",\n",
    "    \"ALK6\":\"Q05438\",\n",
    "    \"ALK7\":\"Q8NER5\",\n",
    "    \"BMPR2\":\"Q13873\",\n",
    "    \"ActR-IIA\":\"Q7SXW6\",\n",
    "    \"ActR-IIB\":\"Q56A35\",\n",
    "    \"TGFR2\":\"P37173\",\n",
    "    \"AMH-RII\":\"Q16671\",\n",
    "    \"EGFR\":\"P00533\"\n",
    "}"
   ]
  },
  {
   "cell_type": "code",
   "execution_count": 21,
   "metadata": {},
   "outputs": [
    {
     "name": "stdout",
     "output_type": "stream",
     "text": [
      "Now getting ALK1 sequence file\n",
      "Writing ALK1 fasta file\n",
      "Done!\n",
      "Now getting ALK2 sequence file\n",
      "Writing ALK2 fasta file\n",
      "Done!\n",
      "Now getting ALK3 sequence file\n",
      "Writing ALK3 fasta file\n",
      "Done!\n",
      "Now getting ALK4 sequence file\n",
      "Writing ALK4 fasta file\n",
      "Done!\n",
      "Now getting ALK5 sequence file\n",
      "Writing ALK5 fasta file\n",
      "Done!\n",
      "Now getting ALK6 sequence file\n",
      "Writing ALK6 fasta file\n",
      "Done!\n",
      "Now getting ALK7 sequence file\n",
      "Writing ALK7 fasta file\n",
      "Done!\n",
      "Now getting BMPR2 sequence file\n",
      "Writing BMPR2 fasta file\n",
      "Done!\n",
      "Now getting ActR-IIA sequence file\n",
      "Writing ActR-IIA fasta file\n",
      "Done!\n",
      "Now getting ActR-IIB sequence file\n",
      "Writing ActR-IIB fasta file\n",
      "Done!\n",
      "Now getting TGFR2 sequence file\n",
      "Writing TGFR2 fasta file\n",
      "Done!\n",
      "Now getting AMH-RII sequence file\n",
      "Writing AMH-RII fasta file\n",
      "Done!\n",
      "Now getting EGFR sequence file\n",
      "Writing EGFR fasta file\n",
      "Done!\n"
     ]
    }
   ],
   "source": [
    "try:\n",
    "    os.mkdir(\"Targets\")\n",
    "except:\n",
    "    pass\n",
    "for target in target_handle.keys():\n",
    "    print(\"Now getting\",target,\"sequence file\")\n",
    "    filename = \"Targets/\"+ target + \".fasta\"\n",
    "    handle = ExPASy.get_sprot_raw(target_handle[target])\n",
    "    temp = SeqIO.read(handle, \"swiss\")\n",
    "    print(\"Writing\",target,\"fasta file\")\n",
    "    SeqIO.write(temp, filename, \"fasta\")\n",
    "    print(\"Done!\")\n",
    "    time.sleep(0.5) #Some rest to not make it look like a DDoS"
   ]
  },
  {
   "cell_type": "code",
   "execution_count": null,
   "metadata": {},
   "outputs": [
    {
     "name": "stdout",
     "output_type": "stream",
     "text": [
      "Results for ALK1 were found, skiping...\n",
      "Results for ALK2 were found, skiping...\n",
      "Results for ALK3 were found, skiping...\n",
      "Results for ALK4 were found, skiping...\n",
      "Results for ALK5 were found, skiping...\n",
      "Running BLAST against SwissProt using ALK6 as query\n",
      "Saving BLAST results of ALK6\n",
      "Done!\n",
      "Running BLAST against SwissProt using ALK7 as query\n",
      "Saving BLAST results of ALK7\n",
      "Done!\n",
      "Running BLAST against SwissProt using BMPR2 as query\n"
     ]
    }
   ],
   "source": [
    "target_name = target_handle.keys()\n",
    "for target in target_name:\n",
    "    filename =\"Targets/\"+target+\".fasta\"\n",
    "    result_filename = \"Blast_XML/\" + target + \"_blast.xml\"\n",
    "    if not os.path.exists(result_filename):\n",
    "        print(\"Running BLAST against SwissProt using %s as query\" %(target))\n",
    "        with open(filename) as file:\n",
    "            query =file.read()\n",
    "            handle = NCBIWWW.qblast(\"blastp\",\"swissprot\",query,expect=0.01)\n",
    "            print(\"Saving BLAST results of %s\" %(target))\n",
    "            open(result_filename,\"w+\").write(handle.read())\n",
    "            print(\"Done!\")\n",
    "    else:\n",
    "        print(\"Results for %s were found, skiping...\" %(target))\n",
    "    time.sleep(0.5)"
   ]
  },
  {
   "cell_type": "code",
   "execution_count": 25,
   "metadata": {},
   "outputs": [],
   "source": [
    "os.path.exists(result_filename)"
   ]
  },
  {
   "cell_type": "code",
   "execution_count": null,
   "metadata": {},
   "outputs": [],
   "source": []
  }
 ],
 "metadata": {
  "kernelspec": {
   "display_name": "Python 3",
   "language": "python",
   "name": "python3"
  },
  "language_info": {
   "codemirror_mode": {
    "name": "ipython",
    "version": 3
   },
   "file_extension": ".py",
   "mimetype": "text/x-python",
   "name": "python",
   "nbconvert_exporter": "python",
   "pygments_lexer": "ipython3",
   "version": "3.7.3"
  }
 },
 "nbformat": 4,
 "nbformat_minor": 4
}
