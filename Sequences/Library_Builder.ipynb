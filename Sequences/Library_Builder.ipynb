{
 "cells": [
  {
   "cell_type": "markdown",
   "metadata": {},
   "source": [
    "# Protein sequence library builder for AVCR and partners"
   ]
  },
  {
   "cell_type": "markdown",
   "metadata": {},
   "source": [
    "## List of target proteins"
   ]
  },
  {
   "cell_type": "markdown",
   "metadata": {},
   "source": [
    "* ALK1\n",
    "* ALK2\n",
    "* ALK3\n",
    "* ALK4\n",
    "* ALK5\n",
    "* ALK6\n",
    "* ALK7\n",
    "* BMPR2\n",
    "* ActR-IIA\n",
    "* ActR-IIB\n",
    "* TGFR2\n",
    "* AMH-RII\n",
    "* EGFR (control) "
   ]
  },
  {
   "cell_type": "code",
   "execution_count": 12,
   "metadata": {},
   "outputs": [],
   "source": [
    "#Enviroment init\n",
    "from Bio.Blast import NCBIWWW, NCBIXML\n",
    "from Bio import SeqIO, AlignIO, ExPASy\n",
    "from Bio.Align.Applications import MafftCommandline as mafft\n",
    "from bokeh.models import ColumnDataSource\n",
    "from bokeh.plotting import figure, show\n",
    "from bokeh.io import output_notebook\n",
    "import time, os"
   ]
  },
  {
   "cell_type": "code",
   "execution_count": 2,
   "metadata": {},
   "outputs": [],
   "source": [
    "target_handle ={\n",
    "    \"ALK1\":\"P37023\",\n",
    "    \"ALK2\":\"Q04771\",\n",
    "    \"ALK3\":\"P36894\",\n",
    "    \"ALK4\":\"P36896\",\n",
    "    \"ALK5\":\"P36897\",\n",
    "    \"ALK6\":\"Q05438\",\n",
    "    \"ALK7\":\"Q8NER5\",\n",
    "    \"BMPR2\":\"Q13873\",\n",
    "    \"ActR-IIA\":\"Q7SXW6\",\n",
    "    \"ActR-IIB\":\"Q56A35\",\n",
    "    \"TGFR2\":\"P37173\",\n",
    "    \"AMH-RII\":\"Q16671\",\n",
    "    \"EGFR\":\"P00533\"\n",
    "}"
   ]
  },
  {
   "cell_type": "code",
   "execution_count": 21,
   "metadata": {},
   "outputs": [
    {
     "name": "stdout",
     "output_type": "stream",
     "text": [
      "Now getting ALK1 sequence file\n",
      "Writing ALK1 fasta file\n",
      "Done!\n",
      "Now getting ALK2 sequence file\n",
      "Writing ALK2 fasta file\n",
      "Done!\n",
      "Now getting ALK3 sequence file\n",
      "Writing ALK3 fasta file\n",
      "Done!\n",
      "Now getting ALK4 sequence file\n",
      "Writing ALK4 fasta file\n",
      "Done!\n",
      "Now getting ALK5 sequence file\n",
      "Writing ALK5 fasta file\n",
      "Done!\n",
      "Now getting ALK6 sequence file\n",
      "Writing ALK6 fasta file\n",
      "Done!\n",
      "Now getting ALK7 sequence file\n",
      "Writing ALK7 fasta file\n",
      "Done!\n",
      "Now getting BMPR2 sequence file\n",
      "Writing BMPR2 fasta file\n",
      "Done!\n",
      "Now getting ActR-IIA sequence file\n",
      "Writing ActR-IIA fasta file\n",
      "Done!\n",
      "Now getting ActR-IIB sequence file\n",
      "Writing ActR-IIB fasta file\n",
      "Done!\n",
      "Now getting TGFR2 sequence file\n",
      "Writing TGFR2 fasta file\n",
      "Done!\n",
      "Now getting AMH-RII sequence file\n",
      "Writing AMH-RII fasta file\n",
      "Done!\n",
      "Now getting EGFR sequence file\n",
      "Writing EGFR fasta file\n",
      "Done!\n"
     ]
    }
   ],
   "source": [
    "try:\n",
    "    os.mkdir(\"Targets\")\n",
    "except:\n",
    "    pass\n",
    "for target in target_handle.keys():\n",
    "    print(\"Now getting\",target,\"sequence file\")\n",
    "    filename = \"Targets/\"+ target + \".fasta\"\n",
    "    handle = ExPASy.get_sprot_raw(target_handle[target])\n",
    "    temp = SeqIO.read(handle, \"swiss\")\n",
    "    print(\"Writing\",target,\"fasta file\")\n",
    "    SeqIO.write(temp, filename, \"fasta\")\n",
    "    print(\"Done!\")\n",
    "    time.sleep(0.5) #Some rest to not make it look like a DDoS"
   ]
  },
  {
   "cell_type": "code",
   "execution_count": 27,
   "metadata": {},
   "outputs": [
    {
     "name": "stdout",
     "output_type": "stream",
     "text": [
      "Running BLAST againsts SwissProt using ALK1 as query\n",
      "Saving BLAST results of ALK1\n",
      "Done!\n",
      "Running BLAST againsts SwissProt using ALK2 as query\n",
      "Saving BLAST results of ALK2\n",
      "Done!\n",
      "Running BLAST againsts SwissProt using ALK3 as query\n",
      "Saving BLAST results of ALK3\n",
      "Done!\n",
      "Running BLAST againsts SwissProt using ALK4 as query\n",
      "Saving BLAST results of ALK4\n",
      "Done!\n",
      "Running BLAST againsts SwissProt using ALK5 as query\n",
      "Saving BLAST results of ALK5\n",
      "Done!\n",
      "Running BLAST againsts SwissProt using ALK6 as query\n"
     ]
    },
    {
     "ename": "KeyboardInterrupt",
     "evalue": "",
     "output_type": "error",
     "traceback": [
      "\u001b[0;31m---------------------------------------------------------------------------\u001b[0m",
      "\u001b[0;31mKeyboardInterrupt\u001b[0m                         Traceback (most recent call last)",
      "\u001b[0;32m<ipython-input-27-9e2c13567cda>\u001b[0m in \u001b[0;36m<module>\u001b[0;34m\u001b[0m\n\u001b[1;32m      5\u001b[0m     \u001b[0;32mwith\u001b[0m \u001b[0mopen\u001b[0m\u001b[0;34m(\u001b[0m\u001b[0mfilename\u001b[0m\u001b[0;34m)\u001b[0m \u001b[0;32mas\u001b[0m \u001b[0mfile\u001b[0m\u001b[0;34m:\u001b[0m\u001b[0;34m\u001b[0m\u001b[0;34m\u001b[0m\u001b[0m\n\u001b[1;32m      6\u001b[0m         \u001b[0mquery\u001b[0m \u001b[0;34m=\u001b[0m\u001b[0mfile\u001b[0m\u001b[0;34m.\u001b[0m\u001b[0mread\u001b[0m\u001b[0;34m(\u001b[0m\u001b[0;34m)\u001b[0m\u001b[0;34m\u001b[0m\u001b[0;34m\u001b[0m\u001b[0m\n\u001b[0;32m----> 7\u001b[0;31m         \u001b[0mhandle\u001b[0m \u001b[0;34m=\u001b[0m \u001b[0mNCBIWWW\u001b[0m\u001b[0;34m.\u001b[0m\u001b[0mqblast\u001b[0m\u001b[0;34m(\u001b[0m\u001b[0;34m\"blastp\"\u001b[0m\u001b[0;34m,\u001b[0m\u001b[0;34m\"swissprot\"\u001b[0m\u001b[0;34m,\u001b[0m\u001b[0mquery\u001b[0m\u001b[0;34m,\u001b[0m\u001b[0mexpect\u001b[0m\u001b[0;34m=\u001b[0m\u001b[0;36m0.01\u001b[0m\u001b[0;34m)\u001b[0m\u001b[0;34m\u001b[0m\u001b[0;34m\u001b[0m\u001b[0m\n\u001b[0m\u001b[1;32m      8\u001b[0m         \u001b[0mprint\u001b[0m\u001b[0;34m(\u001b[0m\u001b[0;34m\"Saving BLAST results of %s\"\u001b[0m \u001b[0;34m%\u001b[0m\u001b[0;34m(\u001b[0m\u001b[0mtarget\u001b[0m\u001b[0;34m)\u001b[0m\u001b[0;34m)\u001b[0m\u001b[0;34m\u001b[0m\u001b[0;34m\u001b[0m\u001b[0m\n\u001b[1;32m      9\u001b[0m         \u001b[0mresult_filename\u001b[0m \u001b[0;34m=\u001b[0m \u001b[0;34m\"Blast_XML/\"\u001b[0m \u001b[0;34m+\u001b[0m \u001b[0mtarget\u001b[0m \u001b[0;34m+\u001b[0m \u001b[0;34m\"_blast.xml\"\u001b[0m\u001b[0;34m\u001b[0m\u001b[0;34m\u001b[0m\u001b[0m\n",
      "\u001b[0;32m~/miniconda3/envs/jupyter/lib/python3.7/site-packages/Bio/Blast/NCBIWWW.py\u001b[0m in \u001b[0;36mqblast\u001b[0;34m(program, database, sequence, url_base, auto_format, composition_based_statistics, db_genetic_code, endpoints, entrez_query, expect, filter, gapcosts, genetic_code, hitlist_size, i_thresh, layout, lcase_mask, matrix_name, nucl_penalty, nucl_reward, other_advanced, perc_ident, phi_pattern, query_file, query_believe_defline, query_from, query_to, searchsp_eff, service, threshold, ungapped_alignment, word_size, short_query, alignments, alignment_view, descriptions, entrez_links_new_window, expect_low, expect_high, format_entrez_query, format_object, format_type, ncbi_gi, results_file, show_overview, megablast, template_type, template_length)\u001b[0m\n\u001b[1;32m    211\u001b[0m         \u001b[0mwait\u001b[0m \u001b[0;34m=\u001b[0m \u001b[0mqblast\u001b[0m\u001b[0;34m.\u001b[0m\u001b[0m_previous\u001b[0m \u001b[0;34m+\u001b[0m \u001b[0mdelay\u001b[0m \u001b[0;34m-\u001b[0m \u001b[0mcurrent\u001b[0m\u001b[0;34m\u001b[0m\u001b[0;34m\u001b[0m\u001b[0m\n\u001b[1;32m    212\u001b[0m         \u001b[0;32mif\u001b[0m \u001b[0mwait\u001b[0m \u001b[0;34m>\u001b[0m \u001b[0;36m0\u001b[0m\u001b[0;34m:\u001b[0m\u001b[0;34m\u001b[0m\u001b[0;34m\u001b[0m\u001b[0m\n\u001b[0;32m--> 213\u001b[0;31m             \u001b[0mtime\u001b[0m\u001b[0;34m.\u001b[0m\u001b[0msleep\u001b[0m\u001b[0;34m(\u001b[0m\u001b[0mwait\u001b[0m\u001b[0;34m)\u001b[0m\u001b[0;34m\u001b[0m\u001b[0;34m\u001b[0m\u001b[0m\n\u001b[0m\u001b[1;32m    214\u001b[0m             \u001b[0mqblast\u001b[0m\u001b[0;34m.\u001b[0m\u001b[0m_previous\u001b[0m \u001b[0;34m=\u001b[0m \u001b[0mcurrent\u001b[0m \u001b[0;34m+\u001b[0m \u001b[0mwait\u001b[0m\u001b[0;34m\u001b[0m\u001b[0;34m\u001b[0m\u001b[0m\n\u001b[1;32m    215\u001b[0m         \u001b[0;32melse\u001b[0m\u001b[0;34m:\u001b[0m\u001b[0;34m\u001b[0m\u001b[0;34m\u001b[0m\u001b[0m\n",
      "\u001b[0;31mKeyboardInterrupt\u001b[0m: "
     ]
    }
   ],
   "source": [
    "target_name = target_handle.keys()\n",
    "for target in target_name:\n",
    "    filename =\"Targets/\"+target+\".fasta\"\n",
    "    result_filename = \"Blast_XML/\" + target + \"_blast.xml\"\n",
    "    if not os.path.exists(result_filename):\n",
    "        print(\"Running BLAST againsts SwissProt using %s as query\" %(target))\n",
    "        with open(filename) as file:\n",
    "            query =file.read()\n",
    "            handle = NCBIWWW.qblast(\"blastp\",\"swissprot\",query,expect=0.01)\n",
    "            print(\"Saving BLAST results of %s\" %(target))\n",
    "            open(result_filename,\"w+\").write(handle.read())\n",
    "            print(\"Done!\")\n",
    "    time.sleep(0.5)"
   ]
  },
  {
   "cell_type": "code",
   "execution_count": 25,
   "metadata": {},
   "outputs": [],
   "source": [
    "os.path.exists(result_filename)"
   ]
  },
  {
   "cell_type": "code",
   "execution_count": null,
   "metadata": {},
   "outputs": [],
   "source": []
  }
 ],
 "metadata": {
  "kernelspec": {
   "display_name": "Python 3",
   "language": "python",
   "name": "python3"
  },
  "language_info": {
   "codemirror_mode": {
    "name": "ipython",
    "version": 3
   },
   "file_extension": ".py",
   "mimetype": "text/x-python",
   "name": "python",
   "nbconvert_exporter": "python",
   "pygments_lexer": "ipython3",
   "version": "3.7.3"
  }
 },
 "nbformat": 4,
 "nbformat_minor": 4
}
