{
 "cells": [
  {
   "cell_type": "code",
   "execution_count": 6,
   "metadata": {},
   "outputs": [],
   "source": [
    "from Bio import SeqIO, AlignIO\n",
    "from Bio.Align import AlignInfo\n",
    "import glob"
   ]
  },
  {
   "cell_type": "code",
   "execution_count": 7,
   "metadata": {},
   "outputs": [],
   "source": [
    "MSA_list = [f for f in glob.glob(\"MSA/*.fa\")]"
   ]
  },
  {
   "cell_type": "code",
   "execution_count": 13,
   "metadata": {},
   "outputs": [
    {
     "name": "stdout",
     "output_type": "stream",
     "text": [
      "Number of rows: 105\n",
      "Consensus sequence: MEPNNNISNSNNGGSGIDGD IEXXTXXXXXXXDXXGXXX\n",
      "\n",
      "Gapped consensus sequence: -------------------- -------------------\n",
      "Number of rows: 121\n",
      "Consensus sequence: MMXDXXXXXXALVXDNGSGX QEYDEXGPSIVHRKCFXXX\n",
      "\n",
      "Gapped consensus sequence: -MX-XXX-XXALVXDNGSGX QEYDEXGPXIVHRKCF---\n",
      "Number of rows: 106\n",
      "Consensus sequence: MXXXXXXXXXLGAXXXMXXG XXXLMXXXXXFCPDXXXNC\n",
      "\n",
      "Gapped consensus sequence: -----------------XX- -------------------\n",
      "Number of rows: 126\n",
      "Consensus sequence: MXQLYXYIRLLGAXLFMXXG PTLATPXXXXXNXXKXKLF\n",
      "\n",
      "Gapped consensus sequence: -------------------- -------------------\n",
      "Number of rows: 126\n",
      "Consensus sequence: MXXLYXYIEFHIPDGNTLKK XXXXXXXXXXXXXXXXXXX\n",
      "\n",
      "Gapped consensus sequence: -------------------- -------------------\n",
      "Number of rows: 127\n",
      "Consensus sequence: MXXLXLSIEFHIPDGNTLKX XXXXXXXXXXXGXXRXXRN\n",
      "\n",
      "Gapped consensus sequence: -------------------- -------------------\n",
      "Number of rows: 127\n",
      "Consensus sequence: MXQLYXYIRLLGAXLFMXSX XEGGTXTTXXXKXXXXNXX\n",
      "\n",
      "Gapped consensus sequence: -------------------- -------------------\n",
      "Number of rows: 126\n",
      "Consensus sequence: MXLMXXXXXXXXXXXXXXXX XXXXXXXXXXXXXXIGMNC\n",
      "\n",
      "Gapped consensus sequence: -------------------- -------------------\n",
      "Number of rows: 128\n",
      "Consensus sequence: MDXXXXXXXXXKXXXXXXXX XRXXXXXXGXXNXXXXXLF\n",
      "\n",
      "Gapped consensus sequence: -------------------- -------------------\n",
      "Number of rows: 119\n",
      "Consensus sequence: MXXXXXXXXALVXDNGSGXX QEYDEXGPSIVHRKCFXXX\n",
      "\n",
      "Gapped consensus sequence: XXXXXX-XXALVXDNGSGXX QEYDEXGPXIVHRKCF---\n",
      "Number of rows: 105\n",
      "Consensus sequence: MXXLYLSIEXHXXXXXXXXK TXTXXVXXXXXXXXXFDHK\n",
      "\n",
      "Gapped consensus sequence: -------------------- -------------------\n",
      "Number of rows: 126\n",
      "Consensus sequence: MXQLYXYIRLLGAXXXMXXG XRXXXXXXXXXRXISNALN\n",
      "\n",
      "Gapped consensus sequence: -------------------- -------------------\n",
      "Number of rows: 127\n",
      "Consensus sequence: MRGSGPRGAGXRRXXGRXGG XXXXFPXXXXXXXXXXVXR\n",
      "\n",
      "Gapped consensus sequence: -------------------- -------------------\n"
     ]
    }
   ],
   "source": [
    "for file in MSA_list:\n",
    "    alignment = AlignIO.read(file,\"fasta\")\n",
    "    print(\"Number of rows: %i\" % len(alignment))\n",
    "    summary_align = AlignInfo.SummaryInfo(alignment)\n",
    "    consensus = summary_align.dumb_consensus(require_multiple=0)\n",
    "    print(\"Consensus sequence: %s\" % consensus[:20], consensus[-20:-1])\n",
    "    print()\n",
    "    gap_consensus = summary_align.gap_consensus(require_multiple=1)\n",
    "    print(\"Gapped consensus sequence: %s\" % gap_consensus[:20],  gap_consensus[-20:-1])"
   ]
  },
  {
   "cell_type": "code",
   "execution_count": null,
   "metadata": {},
   "outputs": [],
   "source": []
  }
 ],
 "metadata": {
  "kernelspec": {
   "display_name": "Python 3",
   "language": "python",
   "name": "python3"
  },
  "language_info": {
   "codemirror_mode": {
    "name": "ipython",
    "version": 3
   },
   "file_extension": ".py",
   "mimetype": "text/x-python",
   "name": "python",
   "nbconvert_exporter": "python",
   "pygments_lexer": "ipython3",
   "version": "3.7.3"
  }
 },
 "nbformat": 4,
 "nbformat_minor": 4
}
